{
 "cells": [
  {
   "cell_type": "code",
   "execution_count": null,
   "id": "initial_id",
   "metadata": {
    "collapsed": true
   },
   "outputs": [],
   "source": [
    "print(\"hello\")"
   ]
  },
  {
   "cell_type": "code",
   "execution_count": null,
   "outputs": [],
   "source": [
    "!pip install oandapyV20"
   ],
   "metadata": {
    "collapsed": false
   },
   "id": "a933a68b0a5fbcfe"
  },
  {
   "cell_type": "code",
   "execution_count": null,
   "outputs": [],
   "source": [
    "from oandapyV20 import API    # Importing the API library\n",
    "import oandapyV20.endpoints.orders as orders\n",
    "\n",
    "account_id = \"101-001-27691855-001\"  # Replace with your account ID\n",
    "access_token = \"45d74503bbd2913e28c2a0098ba05554-58693ee27e51dbee19cc01366fb9481f\"   # Replace with your API key\n",
    "\n",
    "api = API(access_token=access_token)\n",
    "\n",
    "data = {\n",
    "  \"order\": {\n",
    "    \"timeInForce\": \"FOK\",\n",
    "    \"instrument\": \"EUR_USD\",\n",
    "    \"units\": \"100\",             # Positive for buy, negative for sell\n",
    "    \"type\": \"MARKET\",           # Type of the order\n",
    "    \"positionFill\": \"DEFAULT\"\n",
    "  }\n",
    "}\n",
    "\n",
    "order = orders.OrderCreate(accountID=account_id, data=data)\n",
    "response = api.request(order)\n",
    "\n",
    "print(response)\n"
   ],
   "metadata": {
    "collapsed": false
   },
   "id": "7c574044a6d54fef"
  },
  {
   "cell_type": "code",
   "execution_count": null,
   "outputs": [],
   "source": [
    "from oandapyV20 import API\n",
    "import oandapyV20.endpoints.positions as positions\n",
    "import oandapyV20.endpoints.orders as orders\n",
    "\n",
    "account_id = \"YOUR_ACCOUNT_ID\"  # Replace with your account ID\n",
    "access_token = \"YOUR_API_KEY\"   # Replace with your API key\n",
    "\n",
    "api = API(access_token=access_token)\n",
    "\n",
    "# Fetch open positions\n",
    "open_positions = positions.OpenPositions(accountID=account_id)\n",
    "response = api.request(open_positions)\n",
    "\n",
    "# For each position, create an order to close it\n",
    "for position in response['positions']:\n",
    "    instrument = position['instrument']\n",
    "    units = position['long']['units'] if position['long']['units'] != '0' else position['short']['units']\n",
    "    # If the position is long, we need to sell to close, and vice versa\n",
    "    units_to_close = -int(units)\n",
    "\n",
    "    data = {\n",
    "        \"order\": {\n",
    "            \"timeInForce\": \"FOK\",\n",
    "            \"instrument\": instrument,\n",
    "            \"units\": str(units_to_close),  # Negative to close the position\n",
    "            \"type\": \"MARKET\",\n",
    "            \"positionFill\": \"REDUCE_ONLY\"\n",
    "        }\n",
    "    }\n",
    "\n",
    "    # Send the order\n",
    "    order = orders.OrderCreate(accountID=account_id, data=data)\n",
    "    api.request(order)\n",
    "\n",
    "print(\"All positions closed.\")\n"
   ],
   "metadata": {
    "collapsed": false
   },
   "id": "5c9f626d9e2c4de3"
  },
  {
   "cell_type": "code",
   "execution_count": null,
   "outputs": [],
   "source": [],
   "metadata": {
    "collapsed": false
   },
   "id": "f50e2555fed4f297"
  },
  {
   "cell_type": "markdown",
   "source": [
    "## buy , sell ,exit not implimented \n"
   ],
   "metadata": {
    "collapsed": false
   },
   "id": "a4f79304dc6f6235"
  },
  {
   "cell_type": "code",
   "execution_count": 2,
   "outputs": [
    {
     "name": "stdout",
     "output_type": "stream",
     "text": [
      " * Serving Flask app '__main__'\n",
      " * Debug mode: on\n"
     ]
    },
    {
     "name": "stderr",
     "output_type": "stream",
     "text": [
      "\u001B[31m\u001B[1mWARNING: This is a development server. Do not use it in a production deployment. Use a production WSGI server instead.\u001B[0m\n",
      " * Running on http://127.0.0.1:5000\n",
      "\u001B[33mPress CTRL+C to quit\u001B[0m\n",
      " * Restarting with stat\n",
      "Traceback (most recent call last):\n",
      "  File \"/Library/Frameworks/Python.framework/Versions/3.10/lib/python3.10/runpy.py\", line 196, in _run_module_as_main\n",
      "    return _run_code(code, main_globals, None,\n",
      "  File \"/Library/Frameworks/Python.framework/Versions/3.10/lib/python3.10/runpy.py\", line 86, in _run_code\n",
      "    exec(code, run_globals)\n",
      "  File \"/Users/sly/PycharmProjects/onada/.venv/lib/python3.10/site-packages/ipykernel_launcher.py\", line 17, in <module>\n",
      "    app.launch_new_instance()\n",
      "  File \"/Users/sly/PycharmProjects/onada/.venv/lib/python3.10/site-packages/traitlets/config/application.py\", line 1076, in launch_instance\n",
      "    app.initialize(argv)\n",
      "  File \"/Users/sly/PycharmProjects/onada/.venv/lib/python3.10/site-packages/traitlets/config/application.py\", line 118, in inner\n",
      "    return method(app, *args, **kwargs)\n",
      "  File \"/Users/sly/PycharmProjects/onada/.venv/lib/python3.10/site-packages/ipykernel/kernelapp.py\", line 692, in initialize\n",
      "    self.init_sockets()\n",
      "  File \"/Users/sly/PycharmProjects/onada/.venv/lib/python3.10/site-packages/ipykernel/kernelapp.py\", line 331, in init_sockets\n",
      "    self.shell_port = self._bind_socket(self.shell_socket, self.shell_port)\n",
      "  File \"/Users/sly/PycharmProjects/onada/.venv/lib/python3.10/site-packages/ipykernel/kernelapp.py\", line 253, in _bind_socket\n",
      "    return self._try_bind_socket(s, port)\n",
      "  File \"/Users/sly/PycharmProjects/onada/.venv/lib/python3.10/site-packages/ipykernel/kernelapp.py\", line 229, in _try_bind_socket\n",
      "    s.bind(\"tcp://%s:%i\" % (self.ip, port))\n",
      "  File \"/Users/sly/PycharmProjects/onada/.venv/lib/python3.10/site-packages/zmq/sugar/socket.py\", line 302, in bind\n",
      "    super().bind(addr)\n",
      "  File \"zmq/backend/cython/socket.pyx\", line 564, in zmq.backend.cython.socket.Socket.bind\n",
      "  File \"zmq/backend/cython/checkrc.pxd\", line 28, in zmq.backend.cython.checkrc._check_rc\n",
      "zmq.error.ZMQError: Address already in use (addr='tcp://127.0.0.1:57220')\n"
     ]
    },
    {
     "ename": "SystemExit",
     "evalue": "1",
     "output_type": "error",
     "traceback": [
      "An exception has occurred, use %tb to see the full traceback.\n",
      "\u001B[0;31mSystemExit\u001B[0m\u001B[0;31m:\u001B[0m 1\n"
     ]
    },
    {
     "name": "stderr",
     "output_type": "stream",
     "text": [
      "/Users/sly/PycharmProjects/onada/.venv/lib/python3.10/site-packages/IPython/core/interactiveshell.py:3561: UserWarning: To exit: use 'exit', 'quit', or Ctrl-D.\n",
      "  warn(\"To exit: use 'exit', 'quit', or Ctrl-D.\", stacklevel=1)\n"
     ]
    }
   ],
   "source": [
    "from flask import Flask, request, jsonify\n",
    "from oandapyV20 import API\n",
    "import oandapyV20.endpoints.orders as orders\n",
    "import oandapyV20.endpoints.positions as positions\n",
    "\n",
    "app = Flask(__name__)\n",
    "\n",
    "account_id = \"YOUR_ACCOUNT_ID\"  # Replace with your account ID\n",
    "access_token = \"YOUR_API_KEY\"   # Replace with your API key\n",
    "api = API(access_token=access_token)\n",
    "\n",
    "@app.route('/trade', methods=['POST'])\n",
    "def trade():\n",
    "    request_data = request.get_json()\n",
    "\n",
    "    for item in request_data:\n",
    "        symbol = item.get(\"symbol\")\n",
    "        units = item.get(\"units\")\n",
    "        side = item.get(\"side\")\n",
    "        exit_position = item.get(\"exit\")\n",
    "\n",
    "        if exit_position:\n",
    "            # Implement logic to close all positions for the given symbol\n",
    "            pass  # Replace with the logic to close positions\n",
    "        else:\n",
    "            # Place buy or sell order\n",
    "            units = units if side == \"buy\" else f\"-{units}\"\n",
    "            data = {\n",
    "                \"order\": {\n",
    "                    \"timeInForce\": \"FOK\",\n",
    "                    \"instrument\": symbol,\n",
    "                    \"units\": units,\n",
    "                    \"type\": \"MARKET\",\n",
    "                    \"positionFill\": \"DEFAULT\"\n",
    "                }\n",
    "            }\n",
    "            order = orders.OrderCreate(accountID=account_id, data=data)\n",
    "            api.request(order)\n",
    "\n",
    "    return jsonify({\"status\": \"success\"})\n",
    "\n",
    "if __name__ == '__main__':\n",
    "    app.run(debug=True)\n"
   ],
   "metadata": {
    "collapsed": false,
    "ExecuteTime": {
     "end_time": "2023-12-23T16:20:28.280356Z",
     "start_time": "2023-12-23T16:20:25.004307Z"
    }
   },
   "id": "376f9b304072d3c7"
  },
  {
   "cell_type": "code",
   "execution_count": null,
   "outputs": [],
   "source": [
    "!pip install flask "
   ],
   "metadata": {
    "collapsed": false
   },
   "id": "2b26a864fc31429a"
  },
  {
   "cell_type": "code",
   "execution_count": null,
   "outputs": [],
   "source": [],
   "metadata": {
    "collapsed": false
   },
   "id": "e0a2e919358f676a"
  },
  {
   "cell_type": "markdown",
   "source": [
    "## Exit all implimented \n"
   ],
   "metadata": {
    "collapsed": false
   },
   "id": "f2c29f50922a9f8e"
  },
  {
   "cell_type": "code",
   "execution_count": null,
   "outputs": [],
   "source": [
    "from flask import Flask, request, jsonify\n",
    "from oandapyV20 import API\n",
    "import oandapyV20.endpoints.orders as orders\n",
    "import oandapyV20.endpoints.positions as positions\n",
    "\n",
    "app = Flask(__name__)\n",
    "\n",
    "account_id = \"YOUR_ACCOUNT_ID\"  # Replace with your account ID\n",
    "access_token = \"YOUR_API_KEY\"   # Replace with your API key\n",
    "api = API(access_token=access_token)\n",
    "\n",
    "@app.route('/trade', methods=['POST'])\n",
    "def trade():\n",
    "    request_data = request.get_json()\n",
    "\n",
    "    for item in request_data:\n",
    "        symbol = item.get(\"symbol\")\n",
    "        units = item.get(\"units\")\n",
    "        side = item.get(\"side\")\n",
    "        exit_position = item.get(\"exit\")\n",
    "\n",
    "        if exit_position and exit_position == \"true\":\n",
    "            # Fetch the open positions for the symbol\n",
    "            open_positions = positions.PositionDetails(accountID=account_id, instrument=symbol)\n",
    "            response = api.request(open_positions)\n",
    "\n",
    "            # Check if there are any open positions\n",
    "            if response['position']['long']['units'] != '0':\n",
    "                # Close long position\n",
    "                units_to_close = -int(response['position']['long']['units'])\n",
    "                data = {\n",
    "                    \"order\": {\n",
    "                        \"timeInForce\": \"FOK\",\n",
    "                        \"instrument\": symbol,\n",
    "                        \"units\": str(units_to_close),\n",
    "                        \"type\": \"MARKET\",\n",
    "                        \"positionFill\": \"REDUCE_ONLY\"\n",
    "                    }\n",
    "                }\n",
    "                order = orders.OrderCreate(accountID=account_id, data=data)\n",
    "                api.request(order)\n",
    "\n",
    "            if response['position']['short']['units'] != '0':\n",
    "                # Close short position\n",
    "                units_to_close = -int(response['position']['short']['units'])\n",
    "                data = {\n",
    "                    \"order\": {\n",
    "                        \"timeInForce\": \"FOK\",\n",
    "                        \"instrument\": symbol,\n",
    "                        \"units\": str(units_to_close),\n",
    "                        \"type\": \"MARKET\",\n",
    "                        \"positionFill\": \"REDUCE_ONLY\"\n",
    "                    }\n",
    "                }\n",
    "                order = orders.OrderCreate(accountID=account_id, data=data)\n",
    "                api.request(order)\n",
    "\n",
    "        else:\n",
    "            # Place buy or sell order\n",
    "            units = units if side == \"buy\" else f\"-{units}\"\n",
    "            data = {\n",
    "                \"order\": {\n",
    "                    \"timeInForce\": \"FOK\",\n",
    "                    \"instrument\": symbol,\n",
    "                    \"units\": units,\n",
    "                    \"type\": \"MARKET\",\n",
    "                    \"positionFill\": \"DEFAULT\"\n",
    "                }\n",
    "            }\n",
    "            order = orders.OrderCreate(accountID=account_id, data=data)\n",
    "            api.request(order)\n",
    "\n",
    "    return jsonify({\"status\": \"success\"})\n",
    "\n",
    "if __name__ == '__main__':\n",
    "    app.run(debug=True)\n"
   ],
   "metadata": {
    "collapsed": false
   },
   "id": "cc391502aad7ec67"
  }
 ],
 "metadata": {
  "kernelspec": {
   "display_name": "Python 3",
   "language": "python",
   "name": "python3"
  },
  "language_info": {
   "codemirror_mode": {
    "name": "ipython",
    "version": 2
   },
   "file_extension": ".py",
   "mimetype": "text/x-python",
   "name": "python",
   "nbconvert_exporter": "python",
   "pygments_lexer": "ipython2",
   "version": "2.7.6"
  }
 },
 "nbformat": 4,
 "nbformat_minor": 5
}
